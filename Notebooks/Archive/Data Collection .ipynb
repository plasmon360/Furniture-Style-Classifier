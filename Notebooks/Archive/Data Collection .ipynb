{
 "cells": [
  {
   "cell_type": "code",
   "execution_count": 1,
   "metadata": {},
   "outputs": [
    {
     "name": "stdout",
     "output_type": "stream",
     "text": [
      "\"Antique furniture\" -\"Traditional\" -\"Rustic\" -\"Modern\" -\"Contemporary\" -\"Arts &amp; Crafts\" -\"Mid century modern\" -\"TRANSITIONAL\"\n",
      "\"Traditional furniture\" -\"Antique\" -\"Rustic\" -\"Modern\" -\"Contemporary\" -\"Arts &amp; Crafts\" -\"Mid century modern\" -\"TRANSITIONAL\"\n",
      "\"Rustic furniture\" -\"Antique\" -\"Traditional\" -\"Modern\" -\"Contemporary\" -\"Arts &amp; Crafts\" -\"Mid century modern\" -\"TRANSITIONAL\"\n",
      "\"Modern furniture\" -\"Antique\" -\"Traditional\" -\"Rustic\" -\"Contemporary\" -\"Arts &amp; Crafts\" -\"Mid century modern\" -\"TRANSITIONAL\"\n",
      "\"Contemporary furniture\" -\"Antique\" -\"Traditional\" -\"Rustic\" -\"Modern\" -\"Arts &amp; Crafts\" -\"Mid century modern\" -\"TRANSITIONAL\"\n",
      "\"Arts &amp; Crafts furniture\" -\"Antique\" -\"Traditional\" -\"Rustic\" -\"Modern\" -\"Contemporary\" -\"Mid century modern\" -\"TRANSITIONAL\"\n",
      "\"Mid century modern furniture\" -\"Antique\" -\"Traditional\" -\"Rustic\" -\"Modern\" -\"Contemporary\" -\"Arts &amp; Crafts\" -\"TRANSITIONAL\"\n",
      "\"TRANSITIONAL furniture\" -\"Antique\" -\"Traditional\" -\"Rustic\" -\"Modern\" -\"Contemporary\" -\"Arts &amp; Crafts\" -\"Mid century modern\"\n"
     ]
    }
   ],
   "source": [
    "# styles = ['Antique','Traditional', 'Vintage', 'Rustic', 'American Artisan', 'Art Deco', 'Retro', 'Modern', 'Relaxed Modern',\n",
    "# 'Contemporary', 'Casual Luxe', 'Urban Collective', 'Arts & Crafts', 'Mid century modern','TRANSITIONAL']\n",
    "styles = ['Antique','Traditional', 'Rustic',  'Modern','Contemporary',  'Arts &amp; Crafts', 'Mid century modern','TRANSITIONAL']\n",
    "\n",
    "# styles = ['Antique','Traditional', 'Rustic',  'Modern', 'Contemporary', 'Arts &amp;  Crafts']\n",
    "\n",
    "for s in styles:\n",
    "    text = '\\\"'+s+' furniture'+'\\\"'\n",
    "    for j in styles:\n",
    "        if s != j:\n",
    "            text += ' -' + '\\\"'+j+'\\\"'\n",
    "    print(text)"
   ]
  },
  {
   "cell_type": "code",
   "execution_count": null,
   "metadata": {},
   "outputs": [],
   "source": [
    "!ls"
   ]
  },
  {
   "cell_type": "code",
   "execution_count": null,
   "metadata": {},
   "outputs": [],
   "source": [
    "folder = 'mid-century-modern'\n",
    "dest = path/folder\n",
    "download_images(path/file, dest, max_pics=200)"
   ]
  },
  {
   "cell_type": "code",
   "execution_count": null,
   "metadata": {},
   "outputs": [],
   "source": [
    "folder = 'traditional'\n",
    "file = 'traditional-urls.txt'\n",
    "dest = path/folder\n",
    "download_images(path/file, dest, max_pics=200)"
   ]
  },
  {
   "cell_type": "code",
   "execution_count": null,
   "metadata": {},
   "outputs": [],
   "source": [
    "folder = 'rustic'\n",
    "file = 'rustic-urls.txt'\n",
    "dest = path/folder\n",
    "download_images(path/file, dest, max_pics=200)"
   ]
  },
  {
   "cell_type": "code",
   "execution_count": null,
   "metadata": {},
   "outputs": [],
   "source": [
    "folder = 'traditional'\n",
    "file = 'traditional-urls.txt'\n",
    "dest = path/folder\n",
    "download_images(path/file, dest, max_pics=200)"
   ]
  },
  {
   "cell_type": "code",
   "execution_count": null,
   "metadata": {},
   "outputs": [],
   "source": [
    "folder = 'transitional'\n",
    "file = 'transitional-urls.txt'\n",
    "dest = path/folder\n",
    "download_images(path/file, dest, max_pics=200)"
   ]
  },
  {
   "cell_type": "code",
   "execution_count": null,
   "metadata": {},
   "outputs": [],
   "source": [
    "classes = ['arts_and_crafts', 'mid-century-modern', 'rustic', 'traditional', 'transitional']\n",
    "for c in classes:\n",
    "    print(c)\n",
    "    verify_images(path/c, delete=True, max_workers=8)"
   ]
  },
  {
   "cell_type": "code",
   "execution_count": null,
   "metadata": {},
   "outputs": [],
   "source": [
    "folder = 'arts_and_crafts'\n",
    "file = 'arts_and_crafts-urls.txt'\n",
    "dest = path/folder\n",
    "download_images(path/file, dest, max_pics=200)"
   ]
  }
 ],
 "metadata": {
  "kernelspec": {
   "display_name": "Python 3",
   "language": "python",
   "name": "python3"
  },
  "language_info": {
   "codemirror_mode": {
    "name": "ipython",
    "version": 3
   },
   "file_extension": ".py",
   "mimetype": "text/x-python",
   "name": "python",
   "nbconvert_exporter": "python",
   "pygments_lexer": "ipython3",
   "version": "3.6.8"
  }
 },
 "nbformat": 4,
 "nbformat_minor": 2
}
